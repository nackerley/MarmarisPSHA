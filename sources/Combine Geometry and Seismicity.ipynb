{
 "cells": [
  {
   "cell_type": "code",
   "execution_count": 1,
   "metadata": {
    "collapsed": false
   },
   "outputs": [],
   "source": [
    "%matplotlib inline\n",
    "import os\n",
    "import json\n",
    "import codecs\n",
    "import numpy as np\n",
    "import matplotlib.pyplot as plt\n",
    "import openquake.hazardlib.geo.geodetic as geo\n",
    "import hmtk.sources as src\n",
    "import hmtk.plotting.seismicity.catalogue_plots as cp\n",
    "\n",
    "from string import Template\n",
    "from collections import OrderedDict\n",
    "from hmtk.plotting.mapping import HMTKBaseMap\n",
    "from hmtk.parsers.catalogue import CsvCatalogueParser\n",
    "from hmtk.parsers.source_model.nrml04_parser import nrmlSourceModelParser\n",
    "from hmtk.seismicity.selector import CatalogueSelector"
   ]
  },
  {
   "cell_type": "code",
   "execution_count": 2,
   "metadata": {
    "collapsed": true
   },
   "outputs": [],
   "source": [
    "# Alkan Hotel, Marmaris, Turkey\n",
    "target_lon = 28.2520426\n",
    "target_lat = 36.8429408\n",
    "\n",
    "sources_file = \"../geology/MarmarisNearbySources21.xml\"\n",
    "catalogue_filename = '../seismicity/output_homogenized_Marmaris.csv'"
   ]
  },
  {
   "cell_type": "code",
   "execution_count": 3,
   "metadata": {
    "collapsed": false
   },
   "outputs": [
    {
     "name": "stdout",
     "output_type": "stream",
     "text": [
      "Catalogue Attribute  is not a recognised catalogue key\n",
      "Catalogue Attribute Identifier is not a recognised catalogue key\n",
      "Minimum magnitude:  0.75\n",
      "Maximum magnitude:  7.6\n",
      "Number of events:  30006\n",
      "Catalogue keys: \n",
      "['eventID', 'comment', 'sigmaMagnitude', 'hour', 'SemiMinor90', 'magnitude', 'Agency', 'second', 'longitude', 'month', 'depthError', 'flag', 'depth', 'magnitudeType', 'SemiMajor90', 'timeError', 'year', 'latitude', 'ErrorStrike', 'day', 'minute']\n"
     ]
    }
   ],
   "source": [
    "parser = CsvCatalogueParser(catalogue_filename) # From .csv to hmtk\n",
    "\n",
    "# Read and process the catalogue content in a variable called \"catalogue\"\n",
    "catalogue = parser.read_file() \n",
    "\n",
    "print 'Minimum magnitude: ', np.min(catalogue.data['magnitude'])\n",
    "print 'Maximum magnitude: ', np.max(catalogue.data['magnitude'])\n",
    "print 'Number of events: ', len(catalogue.data['magnitude'])\n",
    "print 'Catalogue keys: '\n",
    "print catalogue.data.keys()"
   ]
  },
  {
   "cell_type": "code",
   "execution_count": 4,
   "metadata": {
    "collapsed": false
   },
   "outputs": [
    {
     "ename": "IndexError",
     "evalue": "index out of bounds",
     "output_type": "error",
     "traceback": [
      "\u001b[1;31m---------------------------------------------------------------------------\u001b[0m",
      "\u001b[1;31mIndexError\u001b[0m                                Traceback (most recent call last)",
      "\u001b[1;32m<ipython-input-4-40da89a105e2>\u001b[0m in \u001b[0;36m<module>\u001b[1;34m()\u001b[0m\n\u001b[1;32m----> 1\u001b[1;33m \u001b[0mcp\u001b[0m\u001b[1;33m.\u001b[0m\u001b[0mplot_depth_histogram\u001b[0m\u001b[1;33m(\u001b[0m\u001b[0mcatalogue\u001b[0m\u001b[1;33m,\u001b[0m \u001b[1;36m10\u001b[0m\u001b[1;33m)\u001b[0m\u001b[1;33m\u001b[0m\u001b[0m\n\u001b[0m",
      "\u001b[1;32m/home/nick/src/python/GEM/hmtk/hmtk/plotting/seismicity/catalogue_plots.pyc\u001b[0m in \u001b[0;36mplot_depth_histogram\u001b[1;34m(catalogue, bin_width, normalisation, bootstrap, filename, filetype, dpi)\u001b[0m\n\u001b[0;32m     91\u001b[0m     depth_hist = catalogue.get_depth_distribution(depth_bins,\n\u001b[0;32m     92\u001b[0m                                                   \u001b[0mnormalisation\u001b[0m\u001b[1;33m,\u001b[0m\u001b[1;33m\u001b[0m\u001b[0m\n\u001b[1;32m---> 93\u001b[1;33m                                                   bootstrap)\n\u001b[0m\u001b[0;32m     94\u001b[0m     plt.bar(depth_bins[:-1],\n\u001b[0;32m     95\u001b[0m             \u001b[0mdepth_hist\u001b[0m\u001b[1;33m,\u001b[0m\u001b[1;33m\u001b[0m\u001b[0m\n",
      "\u001b[1;32m/home/nick/src/python/GEM/hmtk/hmtk/seismicity/catalogue.pyc\u001b[0m in \u001b[0;36mget_depth_distribution\u001b[1;34m(self, depth_bins, normalisation, bootstrap)\u001b[0m\n\u001b[0;32m    322\u001b[0m                                       \u001b[0mnormalisation\u001b[0m\u001b[1;33m=\u001b[0m\u001b[0mnormalisation\u001b[0m\u001b[1;33m,\u001b[0m\u001b[1;33m\u001b[0m\u001b[0m\n\u001b[0;32m    323\u001b[0m                                       \u001b[0mnumber_bootstraps\u001b[0m\u001b[1;33m=\u001b[0m\u001b[0mbootstrap\u001b[0m\u001b[1;33m,\u001b[0m\u001b[1;33m\u001b[0m\u001b[0m\n\u001b[1;32m--> 324\u001b[1;33m                                       boundaries=(0., None))\n\u001b[0m\u001b[0;32m    325\u001b[0m \u001b[1;33m\u001b[0m\u001b[0m\n\u001b[0;32m    326\u001b[0m     \u001b[1;32mdef\u001b[0m \u001b[0mget_depth_pmf\u001b[0m\u001b[1;33m(\u001b[0m\u001b[0mself\u001b[0m\u001b[1;33m,\u001b[0m \u001b[0mdepth_bins\u001b[0m\u001b[1;33m,\u001b[0m \u001b[0mdefault_depth\u001b[0m\u001b[1;33m=\u001b[0m\u001b[1;36m5.0\u001b[0m\u001b[1;33m,\u001b[0m \u001b[0mbootstrap\u001b[0m\u001b[1;33m=\u001b[0m\u001b[0mNone\u001b[0m\u001b[1;33m)\u001b[0m\u001b[1;33m:\u001b[0m\u001b[1;33m\u001b[0m\u001b[0m\n",
      "\u001b[1;32m/home/nick/src/python/GEM/hmtk/hmtk/seismicity/utils.pyc\u001b[0m in \u001b[0;36mbootstrap_histogram_1D\u001b[1;34m(values, intervals, uncertainties, normalisation, number_bootstraps, boundaries)\u001b[0m\n\u001b[0;32m    331\u001b[0m         \u001b[1;31m# No bootstraps or all uncertaintes are zero - return ordinary\u001b[0m\u001b[1;33m\u001b[0m\u001b[1;33m\u001b[0m\u001b[0m\n\u001b[0;32m    332\u001b[0m         \u001b[1;31m# histogram\u001b[0m\u001b[1;33m\u001b[0m\u001b[1;33m\u001b[0m\u001b[0m\n\u001b[1;32m--> 333\u001b[1;33m         \u001b[0moutput\u001b[0m \u001b[1;33m=\u001b[0m \u001b[0mnp\u001b[0m\u001b[1;33m.\u001b[0m\u001b[0mhistogram\u001b[0m\u001b[1;33m(\u001b[0m\u001b[0mvalues\u001b[0m\u001b[1;33m,\u001b[0m \u001b[0mintervals\u001b[0m\u001b[1;33m)\u001b[0m\u001b[1;33m[\u001b[0m\u001b[1;36m0\u001b[0m\u001b[1;33m]\u001b[0m\u001b[1;33m\u001b[0m\u001b[0m\n\u001b[0m\u001b[0;32m    334\u001b[0m         \u001b[1;32mif\u001b[0m \u001b[0mnormalisation\u001b[0m\u001b[1;33m:\u001b[0m\u001b[1;33m\u001b[0m\u001b[0m\n\u001b[0;32m    335\u001b[0m             \u001b[0moutput\u001b[0m \u001b[1;33m=\u001b[0m \u001b[0moutput\u001b[0m\u001b[1;33m.\u001b[0m\u001b[0mastype\u001b[0m\u001b[1;33m(\u001b[0m\u001b[0mfloat\u001b[0m\u001b[1;33m)\u001b[0m \u001b[1;33m/\u001b[0m \u001b[0mfloat\u001b[0m\u001b[1;33m(\u001b[0m\u001b[0mnp\u001b[0m\u001b[1;33m.\u001b[0m\u001b[0msum\u001b[0m\u001b[1;33m(\u001b[0m\u001b[0moutput\u001b[0m\u001b[1;33m)\u001b[0m\u001b[1;33m)\u001b[0m\u001b[1;33m\u001b[0m\u001b[0m\n",
      "\u001b[1;32m/usr/local/src/python/anaconda3/envs/py27/lib/python2.7/site-packages/numpy/lib/function_base.pyc\u001b[0m in \u001b[0;36mhistogram\u001b[1;34m(a, bins, range, normed, weights, density)\u001b[0m\n\u001b[0;32m    197\u001b[0m             \u001b[0msa\u001b[0m \u001b[1;33m=\u001b[0m \u001b[0msort\u001b[0m\u001b[1;33m(\u001b[0m\u001b[0ma\u001b[0m\u001b[1;33m[\u001b[0m\u001b[0mi\u001b[0m\u001b[1;33m:\u001b[0m\u001b[0mi\u001b[0m\u001b[1;33m+\u001b[0m\u001b[0mblock\u001b[0m\u001b[1;33m]\u001b[0m\u001b[1;33m)\u001b[0m\u001b[1;33m\u001b[0m\u001b[0m\n\u001b[0;32m    198\u001b[0m             n += np.r_[sa.searchsorted(bins[:-1], 'left'), \\\n\u001b[1;32m--> 199\u001b[1;33m                 sa.searchsorted(bins[-1], 'right')]\n\u001b[0m\u001b[0;32m    200\u001b[0m     \u001b[1;32melse\u001b[0m\u001b[1;33m:\u001b[0m\u001b[1;33m\u001b[0m\u001b[0m\n\u001b[0;32m    201\u001b[0m         \u001b[0mzero\u001b[0m \u001b[1;33m=\u001b[0m \u001b[0marray\u001b[0m\u001b[1;33m(\u001b[0m\u001b[1;36m0\u001b[0m\u001b[1;33m,\u001b[0m \u001b[0mdtype\u001b[0m\u001b[1;33m=\u001b[0m\u001b[0mntype\u001b[0m\u001b[1;33m)\u001b[0m\u001b[1;33m\u001b[0m\u001b[0m\n",
      "\u001b[1;31mIndexError\u001b[0m: index out of bounds"
     ]
    },
    {
     "data": {
      "text/plain": [
       "<matplotlib.figure.Figure at 0x7f3c5c9d8a50>"
      ]
     },
     "metadata": {},
     "output_type": "display_data"
    }
   ],
   "source": [
    "cp.plot_depth_histogram(catalogue, 10)"
   ]
  },
  {
   "cell_type": "code",
   "execution_count": null,
   "metadata": {
    "collapsed": false
   },
   "outputs": [],
   "source": [
    "cp.plot_magnitude_time_density(catalogue, 0.2, 2)"
   ]
  },
  {
   "cell_type": "code",
   "execution_count": null,
   "metadata": {
    "collapsed": false
   },
   "outputs": [],
   "source": [
    "completeness_table_a = np.array([[1992, 3.5],\n",
    "                                 [1978, 4.0], \n",
    "                                 [1963, 5.0],\n",
    "                                 [1900, 7.0]]) \n",
    "cp.plot_observed_recurrence(catalogue, completeness_table_a, 0.1)"
   ]
  },
  {
   "cell_type": "code",
   "execution_count": null,
   "metadata": {
    "collapsed": true
   },
   "outputs": [],
   "source": [
    "# Map configuration\n",
    "span = 1 # deg\n",
    "map_config = {\"min_lon\": target_lon - 2*span, \n",
    "              \"max_lon\": target_lon + 2*span, \n",
    "              \"min_lat\": target_lat - span, \n",
    "              \"max_lat\": target_lat + span, \"resolution\": \"l\"}"
   ]
  },
  {
   "cell_type": "code",
   "execution_count": null,
   "metadata": {
    "collapsed": false
   },
   "outputs": [],
   "source": [
    "# Creating a basemap \n",
    "basemap1 = HMTKBaseMap(map_config, 'Catalogue and nearest sources')\n",
    "\n",
    "# Adding the catalogue to the basemap\n",
    "basemap1.add_catalogue(catalogue, overlay=True)\n",
    "\n",
    "# Reading the models \n",
    "parser = nrmlSourceModelParser(sources_file)\n",
    "\n",
    "# Parse the seismic sources and save them in \"source_model\"\n",
    "source_model = parser.read_file(\"Sources Around Marmaris\")\n",
    "\n",
    "# Adding the seismic sources\n",
    "basemap1.add_source_model(source_model, area_border='r-', \n",
    "                          border_width=1.5, alpha=0.5, overlay=True)\n",
    "\n",
    "# Add target\n",
    "basemap1.add_size_scaled_points(target_lon, target_lat, 20, shape='*', \n",
    "                                colour='k', zorder=6)"
   ]
  },
  {
   "cell_type": "code",
   "execution_count": null,
   "metadata": {
    "collapsed": false
   },
   "outputs": [],
   "source": [
    "# Creating a basemap \n",
    "basemap1 = HMTKBaseMap(map_config, 'Catalogue and \"most dangerous\" sources')\n",
    "\n",
    "# Adding the catalogue to the basemap\n",
    "basemap1.add_catalogue(catalogue, overlay=True)\n",
    "\n",
    "# Reading the models \n",
    "parser = nrmlSourceModelParser(dangerous_sources_file)\n",
    "\n",
    "# Parse the seismic sources and save them in \"source_model\"\n",
    "source_model = parser.read_file(\"Sources Around Marmaris\")\n",
    "\n",
    "# Adding the seismic sources\n",
    "basemap1.add_source_model(source_model, area_border='r-', \n",
    "                          border_width=1.5, alpha=0.5) "
   ]
  },
  {
   "cell_type": "code",
   "execution_count": null,
   "metadata": {
    "collapsed": false
   },
   "outputs": [],
   "source": [
    "selector = CatalogueSelector(catalogue, create_copy=True)"
   ]
  },
  {
   "cell_type": "code",
   "execution_count": null,
   "metadata": {
    "collapsed": false
   },
   "outputs": [],
   "source": [
    "for source in source_model.sources:\n",
    "    if isinstance(source, src.area_source.mtkAreaSource): \n",
    "        source.select_catalogue(selector)\n",
    "        print 'Area source %s, name %s, # of events %8.0f' % (\n",
    "            source.id, source.name, source.catalogue.get_number_events())\n",
    "        #subcatalogue_area = selector.    "
   ]
  },
  {
   "cell_type": "code",
   "execution_count": null,
   "metadata": {
    "collapsed": false
   },
   "outputs": [],
   "source": [
    "d_km = 10*np.ones_like(source_model.sources)\n",
    "d_km[-1] = 30\n",
    "for i, source in enumerate(source_model.sources):\n",
    "    if isinstance(source, src.simple_fault_source.mtkSimpleFaultSource): \n",
    "        source.select_catalogue(selector, d_km[i])\n",
    "    elif isinstance(source, src.complex_fault_source.mtkComplexFaultSource): \n",
    "        source.select_catalogue(selector, d_km[i]) \n",
    "        \n",
    "    print '%s: %s, %d events wihin %g km' % (\n",
    "        source.id, source.name, source.catalogue.get_number_events(), d_km[i])"
   ]
  },
  {
   "cell_type": "code",
   "execution_count": null,
   "metadata": {
    "collapsed": false
   },
   "outputs": [],
   "source": [
    "for i, source in enumerate(source_model.sources):\n",
    "    n_events = source.catalogue.get_number_events()\n",
    "    if n_events < 5: continue\n",
    "    basemap = HMTKBaseMap(\n",
    "        map_config, '%d events %d km from %s' % (n_events, d_km[i], source.name))\n",
    "    basemap.add_catalogue(source.catalogue, overlay=True)\n",
    "    basemap.add_source_model(source_model, area_border='k-')\n",
    "    \n",
    "    cp.plot_observed_recurrence(source.catalogue, completeness_table_a, 0.1)"
   ]
  },
  {
   "cell_type": "code",
   "execution_count": null,
   "metadata": {
    "collapsed": true
   },
   "outputs": [],
   "source": []
  }
 ],
 "metadata": {
  "kernelspec": {
   "display_name": "Python 2",
   "language": "python",
   "name": "python2"
  },
  "language_info": {
   "codemirror_mode": {
    "name": "ipython",
    "version": 2
   },
   "file_extension": ".py",
   "mimetype": "text/x-python",
   "name": "python",
   "nbconvert_exporter": "python",
   "pygments_lexer": "ipython2",
   "version": "2.7.10"
  }
 },
 "nbformat": 4,
 "nbformat_minor": 0
}
