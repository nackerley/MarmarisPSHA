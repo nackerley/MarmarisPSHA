{
 "cells": [
  {
   "cell_type": "code",
   "execution_count": 2,
   "metadata": {
    "collapsed": false
   },
   "outputs": [],
   "source": [
    "%matplotlib inline\n",
    "import os\n",
    "import glob\n",
    "import numpy as np\n",
    "import matplotlib as mpl\n",
    "import matplotlib.pyplot as plt\n",
    "from mpl_toolkits.mplot3d import Axes3D\n",
    "import oq_output.hazard_curve_converter as hc\n",
    "import oq_output.disaggregation_converter as dc\n",
    "mpl.rcParams['lines.linewidth'] = 2"
   ]
  },
  {
   "cell_type": "code",
   "execution_count": 3,
   "metadata": {
    "collapsed": false
   },
   "outputs": [
    {
     "name": "stdout",
     "output_type": "stream",
     "text": [
      "8 files found.\n",
      "Output path is calc_65/disagg_matrix/SA-2.0.\n"
     ]
    }
   ],
   "source": [
    "CALCULATION_ID = 65\n",
    "IML = 'SA-2.0'\n",
    "POE = 0.1\n",
    "path = 'calc_%d/disagg_matrix/%s' % (CALCULATION_ID, IML)\n",
    "file_wild = '%s/disagg_matrix(%g)-*.xml' % (path, POE)\n",
    "input_file_names = glob.glob(file_wild)\n",
    "if len(input_file_names) > 0:\n",
    "    print '%d files found.' % len(input_file_names) \n",
    "else:\n",
    "    print 'No files found matching %s.' % path + file_wild\n",
    "print 'Output path is %s.' % path"
   ]
  },
  {
   "cell_type": "code",
   "execution_count": 5,
   "metadata": {
    "collapsed": false
   },
   "outputs": [
    {
     "name": "stdout",
     "output_type": "stream",
     "text": [
      "['Dist', 'Mag,Dist', 'Lon,Lat,TRT', 'Mag', 'Lon,Lat', 'Mag,Dist,Eps', 'TRT', 'Mag,Lon,Lat']\n"
     ]
    }
   ],
   "source": [
    "input_file_name = input_file_names[0]\n",
    "metadata, matrices = dc.parse_nrml_disaggregation_file(input_file_name)\n",
    "disag_types = [item[0] for item in matrices.items()]\n",
    "print disag_types"
   ]
  },
  {
   "cell_type": "code",
   "execution_count": 10,
   "metadata": {
    "collapsed": false
   },
   "outputs": [],
   "source": [
    "disag_type = 'Lon,Lat,Mag'\n",
    "#for input_file_name in input_file_names:\n",
    "output_file_name = input_file_name.replace('.xml','.csv')\n",
    "dc.save_disagg_to_csv(input_file_name, path, False)\n",
    "csv_file = '%s/%s.csv' % (path, disag_type.replace(',', '_'))\n"
   ]
  },
  {
   "cell_type": "code",
   "execution_count": 14,
   "metadata": {
    "collapsed": false
   },
   "outputs": [
    {
     "name": "stdout",
     "output_type": "stream",
     "text": [
      "(43, 34, 14) (43, 34, 14) (43, 34, 14) (43, 34, 14) (43, 34, 14) (43, 34, 14)\n"
     ]
    }
   ],
   "source": [
    "x, y, z, p = np.loadtxt(csv_file, delimiter=',', skiprows=2, unpack=True)\n",
    "\n",
    "x_axis = np.unique(x)\n",
    "y_axis = np.unique(y)\n",
    "z_axis = np.unique(z)\n",
    "\n",
    "x = x.reshape((len(x_axis), len(y_axis), len(z_axis)))\n",
    "y = y.reshape((len(x_axis), len(y_axis), len(z_axis)))\n",
    "z = z.reshape((len(x_axis), len(y_axis), len(z_axis)))\n",
    "p = p.reshape((len(x_axis), len(y_axis), len(z_axis)))\n",
    "\n",
    "bin_width1 = np.diff(x_axis)[0] if len(x_axis) > 1 else 0\n",
    "bin_width2 = np.diff(y_axis)[0] if len(y_axis) > 1 else 0\n",
    "bin_width3 = np.diff(z_axis)[0] if len(z_axis) > 1 else 1\n",
    "\n",
    "z_bin_edges = z_axis - bin_width3 / 2.\n",
    "z_bin_edges = np.append(z_bin_edges, [z_axis[-1] + bin_width3 / 2.])\n",
    "\n",
    "max_high = p.max()\n",
    "                      \n",
    "print x.shape, y.shape, z.shape, p.shape, (bin_width1*np.ones_like(x)).shape, (bin_width2*np.ones_like(x)).shape"
   ]
  },
  {
   "cell_type": "code",
   "execution_count": null,
   "metadata": {
    "collapsed": false
   },
   "outputs": [],
   "source": [
    "x = x[p != 0]\n",
    "y = y[p != 0]\n",
    "z = z[p != 0]\n",
    "p = p[p != 0]\n",
    "\n",
    "\n",
    "fig = plt.figure()\n",
    "ax = Axes3D(fig)\n",
    "for z_bin in z_bin_edges\n",
    "h = ax.bar3d(x, y, np.zeros_like(x), bin_width1*np.ones_like(x), bin_width2*np.ones_like(x), p)\n",
    "ax.invert_xaxis()\n",
    "ax.invert_yaxis()\n",
    "if disag_type == 'Mag,Dist,Eps':\n",
    "    ax.set_xlabel('Magnitude')\n",
    "    ax.set_ylabel('Distance [km]')\n",
    "elif disag_type in ['Mag,Lon,Lat', 'Lon,Lat,Mag']\n",
    "    ax.set_xlabel('Magnitude')\n",
    "    ax.set_ylabel('Distance [km]')\n",
    "\n",
    "ax.set_zlabel('Contribution to POE %g%% for %s' %(POE, IML))"
   ]
  },
  {
   "cell_type": "code",
   "execution_count": null,
   "metadata": {
    "collapsed": false
   },
   "outputs": [],
   "source": [
    "fig = plt.figure()\n",
    "ax = fig.add_subplot(111, projection='3d')\n",
    "x, y = np.random.rand(2, 100) * 4\n",
    "hist, xedges, yedges = np.histogram2d(x, y, bins=4)\n",
    "\n",
    "elements = (len(xedges) - 1) * (len(yedges) - 1)\n",
    "xpos, ypos = np.meshgrid(xedges[:-1]+0.25, yedges[:-1]+0.25)\n",
    "\n",
    "xpos = xpos.flatten()\n",
    "ypos = ypos.flatten()\n",
    "zpos = np.zeros(elements)\n",
    "dx = 0.5 * np.ones_like(zpos)\n",
    "dy = dx.copy()\n",
    "dz = hist.flatten()\n",
    "\n",
    "ax.bar3d(xpos, ypos, zpos, dx, dy, dz, color='b', zsort='average')\n",
    "\n",
    "plt.show()\n",
    "print hist.shape, xpos.shape, ypos.shape, zpos.shape, dx.shape, dy.shape, dz.shape"
   ]
  },
  {
   "cell_type": "code",
   "execution_count": 105,
   "metadata": {
    "collapsed": false
   },
   "outputs": [
    {
     "data": {
      "text/plain": [
       "(7,)"
      ]
     },
     "execution_count": 105,
     "metadata": {},
     "output_type": "execute_result"
    }
   ],
   "source": [
    "x_axis.shape"
   ]
  },
  {
   "cell_type": "raw",
   "metadata": {
    "collapsed": false
   },
   "source": [
    "for file_name in file_names:\n",
    "    hcm = disaggregation_converter.parse_nrml_disaggregation_file(file_name)\n",
    "    for row in hcm[\"curves\"]:\n",
    "        if hcm[\"gsim_tree_path\"] is not None:\n",
    "            label=\"GSIM %s Source %s\" % (hcm[\"gsim_tree_path\"], \n",
    "                                         hcm[\"source_model_tree_path\"])\n",
    "        else:\n",
    "            label=\"%s\" % (hcm[\"statistics\"])\n",
    "        plt.loglog(hcm[\"imls\"], row[2:], label=label)\n",
    "    plt.xlabel(hcm['imt'])\n",
    "plt.ylabel('Probability of exceedence in %s years' % \n",
    "           hcm['investigation_time'])\n",
    "plt.legend(loc='center left', bbox_to_anchor=(1, 0.5), frameon=False)\n",
    "#plt.autoscale('x', tight=True)\n",
    "plt.xlim((1e-2, 1))\n",
    "plt.ylim((1e-2, 1))\n",
    "plt.show()"
   ]
  },
  {
   "cell_type": "code",
   "execution_count": 65,
   "metadata": {
    "collapsed": true
   },
   "outputs": [],
   "source": [
    "def plot_1d_hist(hist_file, xlabel, title, annotation_file=None):\n",
    "    \"\"\"\n",
    "    Plot 1D histogram\n",
    "    \"\"\"\n",
    "    _, tail = os.path.split(hist_file)\n",
    "\n",
    "\n",
    "    if tail == 'TRT.csv':\n",
    "        data = np.loadtxt(hist_file, delimiter=',', skiprows=2, dtype=object)\n",
    "        data = data.reshape(-1, 2)\n",
    "        x = np.linspace(0, 1, data.shape[0])\n",
    "        y = data[:, 1].astype(np.float)\n",
    "        bin_width = 1\n",
    "    else:\n",
    "        data = np.loadtxt(hist_file, delimiter=',', skiprows=2)\n",
    "        data = data.reshape(-1, 2)\n",
    "        x = data[:, 0]\n",
    "        y = data[:, 1]\n",
    "        bin_width = np.diff(x)[0]\n",
    "\n",
    "    region = '-R%s/%s/0/%s' % \\\n",
    "        (np.min(x) - bin_width, np.max(x) + bin_width, np.max(y))\n",
    "    projection = '-JX15/15'\n",
    "    annotation = '-B:%s:%s/:Probability:%s:.%s:WS' % \\\n",
    "        (xlabel, 2 * bin_width, np.round(np.max(y)/4, 4), title)\n",
    "\n",
    "    if tail == 'TRT.csv':\n",
    "        np.savetxt('trt_hist.dat', np.array([x, y], dtype=float).T)\n",
    "        annotation = '-B:%s:/:Probability:%s:.%s:WS' % \\\n",
    "            (xlabel, np.round(np.max(y)/4, 4), title)\n"
   ]
  },
  {
   "cell_type": "code",
   "execution_count": 66,
   "metadata": {
    "collapsed": true
   },
   "outputs": [],
   "source": [
    "def plot_2d_hist(hist_file, xlabel, ylabel, title):\n",
    "    \"\"\"\n",
    "    Plot 2D histogram\n",
    "    \"\"\"\n",
    "    name = os.path.splitext(hist_file)[0]\n",
    "\n",
    "    x, y, z = np.loadtxt(hist_file, delimiter=',', skiprows=2, unpack=True)\n",
    "    bin_width1 = np.diff(np.unique(x))[0]\n",
    "    bin_width2 = np.diff(np.unique(y))[0]\n",
    "\n",
    "    # extract only non-zero z values\n",
    "    idx = z > 0\n",
    "    new_hist = np.concatenate(\n",
    "        (x[idx].reshape(-1, 1), y[idx].reshape(-1, 1), z[idx].reshape(-1, 1)),\n",
    "        axis=1\n",
    "    )\n",
    "    np.savetxt('new_hist.dat', new_hist)\n",
    "\n",
    "    region = '-R%s/%s/%s/%s/%s/%s' % \\\n",
    "        (x[0] - bin_width1, x[-1] + bin_width1,\n",
    "         y[0] - bin_width2, y[-1] + bin_width2,\n",
    "         0.0, np.max(z))\n",
    "\n",
    "    if 'Lon_Lat' in name:\n",
    "        projection = '-Jx4d'\n",
    "        annotation = '-B:%s:%s/:%s:%s/%s:Probability::.%s:WeSnZ' % \\\n",
    "            (xlabel, 3 * bin_width1, ylabel, 2 * bin_width2,\n",
    "            np.round(np.max(z) / 4, 4), title)\n",
    "    else:\n",
    "        projection = '-JX15/15'\n",
    "        annotation = '-B:%s:%s/:%s:%s/%s:Probability::.%s:wEsNZ' % \\\n",
    "            (xlabel, 2 * bin_width1, ylabel, 2 * bin_width2,\n",
    "            np.round(np.max(z) / 4, 4), title)"
   ]
  },
  {
   "cell_type": "code",
   "execution_count": 140,
   "metadata": {
    "collapsed": false
   },
   "outputs": [
    {
     "ename": "SyntaxError",
     "evalue": "invalid syntax (<ipython-input-140-4384fcfc546c>, line 7)",
     "output_type": "error",
     "traceback": [
      "\u001b[1;36m  File \u001b[1;32m\"<ipython-input-140-4384fcfc546c>\"\u001b[1;36m, line \u001b[1;32m7\u001b[0m\n\u001b[1;33m    x_axis = np.unique(x)\u001b[0m\n\u001b[1;37m         ^\u001b[0m\n\u001b[1;31mSyntaxError\u001b[0m\u001b[1;31m:\u001b[0m invalid syntax\n"
     ]
    }
   ],
   "source": [
    "def plot_3d_hist(hist_file, xlabel, ylabel, zlabel, title):\n",
    "    \"\"\"\n",
    "    Plot 3d histogram\n",
    "    \"\"\"\n",
    "    _, tail = os.path.split(hist_file)\n",
    "\n",
    "    if tail == 'Lon_Lat_TRT.csv':\n",
    "        x, y, p = np.loadtxt(\n",
    "            hist_file, delimiter=',', skiprows=2, unpack=True, usecols=(0, 1, 3)\n",
    "        )\n",
    "        z = np.loadtxt(\n",
    "            hist_file, delimiter=',', skiprows=2, unpack=True, usecols=(2,),\n",
    "            dtype=str\n",
    "        )\n",
    "        x_axis = np.unique(x)\n",
    "        y_axis = np.unique(y)\n",
    "        z_axis = np.arange(len(np.unique(z)))\n",
    "    else:\n",
    "        x, y, z, p = np.loadtxt(\n",
    "            hist_file, delimiter=',', skiprows=2, unpack=True\n",
    "        )\n",
    "        x_axis = np.unique(x)\n",
    "        y_axis = np.unique(y)\n",
    "        z_axis = np.unique(z)\n",
    "\n",
    "    p = p.reshape((len(x_axis), len(y_axis), len(z_axis)))\n",
    "\n",
    "    bin_width1 = np.diff(x_axis)[0] if len(x_axis) > 1 else 0\n",
    "    bin_width2 = np.diff(y_axis)[0] if len(y_axis) > 1 else 0\n",
    "    bin_width3 = np.diff(z_axis)[0] if len(z_axis) > 1 else 1\n",
    "\n",
    "    z_bin_edges = z_axis - bin_width3 / 2.\n",
    "    z_bin_edges = np.append(z_bin_edges, [z_axis[-1] + bin_width3 / 2.])\n",
    "\n",
    "    max_high = np.max(np.sum(p, axis=2))\n",
    "\n",
    "    # modify cpt file to create custom annotation\n",
    "    if tail == 'Lon_Lat_TRT.csv':\n",
    "        cpt_table = np.loadtxt('colors.cpt')\n",
    "        if len(cpt_table.shape) == 1:\n",
    "            cpt_table = cpt_table.reshape(-1, cpt_table.size)\n",
    "        annotations = np.array([';%s' % trt for trt in np.unique(z)])\n",
    "        annotations = annotations.reshape(-1, 1)\n",
    "        annotations = annotations.astype(object)\n",
    "        cpt_table = np.concatenate((cpt_table, annotations), axis=1)\n",
    "        cpt = open('colors.cpt', 'w')\n",
    "        for (v1, r1, g1, b1, v2, r2, g2, b2, label) in cpt_table:\n",
    "            cpt.write('%f %i %i %i %f %i %i %i %s\\n' %\n",
    "                      (v1, r1, g1, b1, v2, r2, g2, b2, label))\n",
    "        cpt.close()\n",
    "\n",
    "    if 'Lon_Lat' in tail:\n",
    "        projection = '-Jx4d'\n",
    "        annotation = '-B:%s:%s/:%s:%s/%s:Probability::.%s:WeSnZ' % \\\n",
    "            (xlabel, 3 * bin_width1, ylabel, 2 * bin_width2,\n",
    "            np.round(np.max(max_high) / 4, 4), title)\n",
    "        for i, v1 in enumerate(x_axis):\n",
    "            for j in range(len(y_axis))[::-1]:\n",
    "                v2 = y_axis[j]\n",
    "                for k, v3 in enumerate(z_axis):\n",
    "\n",
    "                    if k == 0:\n",
    "                        base_hight = 0.\n",
    "                    else:\n",
    "                        base_hight = np.sum(p[i, j, :k])\n",
    "\n",
    "                    f = open('values.dat', 'w')\n",
    "                    f.write('%s %s %s %s' % (v1, v2, base_hight + p[i, j, k], v3))\n",
    "                    f.close()\n",
    "\n",
    "    else:\n",
    "        projection = '-JX15/15'\n",
    "        annotation = '-B:%s:%s/:%s:%s/%s:Probability::.%s:wEsNZ' % \\\n",
    "            (xlabel, 2 * bin_width1, ylabel, 2 * bin_width2,\n",
    "            np.round(max_high / 4, 4), title)\n",
    "\n",
    "        first = False\n",
    "        for i, v1 in enumerate(x_axis):\n",
    "            for j, v2 in enumerate(y_axis):\n",
    "                for k, v3 in enumerate(z_axis):\n",
    "\n",
    "                    if k == 0:\n",
    "                        base_hight = 0.\n",
    "                    else:\n",
    "                        base_hight = np.sum(p[i, j, :k])\n",
    "\n",
    "                    f = open('values.dat', 'w')\n",
    "                    f.write('%s %s %s %s' % (v1, v2, base_hight + p[i, j, k], v3))\n",
    "                    f.close()"
   ]
  },
  {
   "cell_type": "code",
   "execution_count": 63,
   "metadata": {
    "collapsed": true
   },
   "outputs": [],
   "source": [
    "def plot_hist(output_file, disag_type):\n",
    "    if disag_type == 'Mag':\n",
    "        plot_1d_hist(output_file, 'Magnitude', '')\n",
    "    elif disag_type == 'Dist':\n",
    "        plot_1d_hist(output_file, 'JB distance', '')\n",
    "    elif disag_type == 'TRT':\n",
    "        ntrt = metadata['TRT'].size\n",
    "        bin_edges = range(ntrt)\n",
    "        annotation_file = open(\"annotation.dat\",'w')\n",
    "        for i in range(ntrt):\n",
    "            annotation_file.write(\"%s %s %s %s %s %s %s\\n\" % \n",
    "                (bin_edges[i],\n",
    "                numpy.max(matrix) + 0.05 * numpy.max(matrix),\n",
    "                12, 0.0, 0, 'MC', metadata['TRT'][i]))\n",
    "        annotation_file.close()\n",
    "        plot_1d_hist(output_file, 'Tectonic Region',\n",
    "                     '', annotation_file.name)\n",
    "    elif disag_type == 'Mag,Dist':\n",
    "        plot_2d_hist(output_file, 'Magnitude', 'JB distance', '')\n",
    "    elif disag_type == 'Lon,Lat':\n",
    "        plot_2d_hist(output_file, 'Longitude', 'Latitude', '')\n",
    "    elif disag_type == 'Mag,Dist,Eps':\n",
    "        plot_3d_hist(output_file, 'Magnitude', 'Distance', 'Epsilon', '')\n",
    "    elif disag_type == 'Lon,Lat,Eps':\n",
    "        plot_3d_hist(output_file, 'Longitude', 'Latitude', 'Epsilon', '')\n",
    "    elif disag_type == 'Lon,Lat,Mag':\n",
    "        plot_3d_hist(output_file, 'Longitude', 'Latitude', 'Magnitude', '')\n",
    "    elif disag_type == 'Lon,Lat,TRT':\n",
    "        plot_3d_hist(output_file, 'Longitude', 'Latitude', '', '')"
   ]
  },
  {
   "cell_type": "code",
   "execution_count": null,
   "metadata": {
    "collapsed": true
   },
   "outputs": [],
   "source": []
  }
 ],
 "metadata": {
  "kernelspec": {
   "display_name": "Python 2",
   "language": "python",
   "name": "python2"
  },
  "language_info": {
   "codemirror_mode": {
    "name": "ipython",
    "version": 2
   },
   "file_extension": ".py",
   "mimetype": "text/x-python",
   "name": "python",
   "nbconvert_exporter": "python",
   "pygments_lexer": "ipython2",
   "version": "2.7.10"
  }
 },
 "nbformat": 4,
 "nbformat_minor": 0
}
