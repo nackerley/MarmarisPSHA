{
 "cells": [
  {
   "cell_type": "markdown",
   "metadata": {},
   "source": [
    "# Catalogue Statistics"
   ]
  },
  {
   "cell_type": "code",
   "execution_count": 1,
   "metadata": {
    "collapsed": true
   },
   "outputs": [],
   "source": [
    "%matplotlib inline\n",
    "import os\n",
    "import sys\n",
    "import numpy as np\n",
    "import pandas as pd\n",
    "import matplotlib.pyplot as plt\n",
    "import eqcat.parsers.isf_catalogue_reader as icr\n",
    "import eqcat.catalogue_query_tools as cqt\n",
    "from IPython.utils import io"
   ]
  },
  {
   "cell_type": "code",
   "execution_count": 2,
   "metadata": {
    "collapsed": false
   },
   "outputs": [],
   "source": [
    "# read the catalogue - why do we bother making an hdf5?\n",
    "raw_file_name = \"Marmaries-catalogue1.txt\"\n",
    "base = os.path.basename(raw_file_name)\n",
    "db_file_name = os.path.splitext(base)[0] + '.hdf5'\n",
    "\n",
    "rejection_keywords = [\"mining\", \"geothermal\", \"explosion\", \"quarry\", \n",
    "                      \"reservoir\", \"induced\", \"rockburst\"]\n",
    "reader = icr.ISFReader(raw_file_name, \n",
    "                       rejection_keywords=rejection_keywords)\n",
    "catalogue = reader.read_file(\"TUR\", \"ISC\")"
   ]
  },
  {
   "cell_type": "code",
   "execution_count": 3,
   "metadata": {
    "collapsed": false
   },
   "outputs": [],
   "source": [
    "# summarize reasons for rejections\n",
    "if not os.path.isfile(db_file_name) and len(reader.rejected_catalogue) > 0:\n",
    "    num_rejections = len(reader.rejected_catalogue.events)\n",
    "    keyword_counts = dict(zip(rejection_keywords, [0]*num_rejections))\n",
    "    for event in reader.rejected_catalogue.events:\n",
    "        for keyword in rejection_keywords:\n",
    "            if keyword.lower() in event.comment.lower():\n",
    "                keyword_counts[keyword] = keyword_counts[keyword] + 1\n",
    "\n",
    "    num_keywords_found = sum(keyword_counts.values())\n",
    "    print \"Note: %d rejection keywords found in %d rejected events.\" % \\\n",
    "        (num_keywords_found, num_rejections)\n",
    "\n",
    "    print keyword_counts"
   ]
  },
  {
   "cell_type": "code",
   "execution_count": 4,
   "metadata": {
    "collapsed": false
   },
   "outputs": [],
   "source": [
    "# build the catalogue if we haven't already\n",
    "if not os.path.isfile(db_file_name):\n",
    "    _ = catalogue.build_dataframe(db_file_name)\n",
    "db1 = cqt.CatalogueDB(db_file_name)"
   ]
  },
  {
   "cell_type": "code",
   "execution_count": 5,
   "metadata": {
    "collapsed": false,
    "scrolled": true
   },
   "outputs": [
    {
     "name": "stdout",
     "output_type": "stream",
     "text": [
      "Number of magnitudes:  116530\n",
      "Number of origins:  128554\n",
      "Number of unique events:  36179\n"
     ]
    }
   ],
   "source": [
    "db1.origins\n",
    "temp = db1.origins[\"eventID\"]\n",
    "temp = list(temp)\n",
    "uniqueIDs = set(temp)\n",
    "print \"Number of magnitudes: \", len(db1.magnitudes)\n",
    "print \"Number of origins: \", len(db1.origins)\n",
    "print \"Number of unique events: \", len(uniqueIDs)"
   ]
  },
  {
   "cell_type": "code",
   "execution_count": null,
   "metadata": {
    "collapsed": false
   },
   "outputs": [],
   "source": [
    "overlap_threshhold = 50\n",
    "agency_mag_file_name = os.path.splitext(base)[0] + ('_%d_AgencyPairs.txt' % overlap_threshhold)\n",
    "#if not os.path.isfile(agency_mag_file_name):\n",
    "#with open(agency_mag_file_name, 'w') as sys.stdout: \n",
    "with io.capture_output() as captured:\n",
    "    cqt.mine_agency_magnitude_combinations(\n",
    "        db1,agency_magnitude_stats, overlap_threshhold,\n",
    "        no_case=True, quiet=True)\n",
    "with"
   ]
  },
  {
   "cell_type": "code",
   "execution_count": null,
   "metadata": {
    "collapsed": false
   },
   "outputs": [],
   "source": [
    "pairs = np.genfromtxt(agency_mag_file_name, \n",
    "                      dtype=\"S64,S64,S64,S64,S64,S64,S64,i,S64\")"
   ]
  },
  {
   "cell_type": "code",
   "execution_count": null,
   "metadata": {
    "collapsed": false
   },
   "outputs": [],
   "source": [
    "# have a peek at the data\n",
    "pairs[:5]"
   ]
  },
  {
   "cell_type": "code",
   "execution_count": null,
   "metadata": {
    "collapsed": false
   },
   "outputs": [],
   "source": [
    "# parse the data and look at sets\n",
    "agencies1 = [pair[1][1:-1].replace('_','') for pair in pairs]\n",
    "mags1 = [pair[2][:-1].upper() for pair in pairs]\n",
    "agencies2 = [pair[4][1:-1].replace('_','') for pair in pairs]\n",
    "mags2 = [pair[5][:-1].upper() for pair in pairs]\n",
    "nums_shared = [pair[7] for pair in pairs]\n",
    "\n",
    "print set(mags1)\n",
    "print set(mags2)\n",
    "print list(set(mags1) - set(mags2))\n",
    "print list(set(mags2) - set(mags1))\n",
    "\n",
    "print set(agencies1)\n",
    "print set(agencies2)\n",
    "print list(set(agencies1) - set(agencies2))\n",
    "print list(set(agencies2) - set(agencies1))"
   ]
  },
  {
   "cell_type": "code",
   "execution_count": null,
   "metadata": {
    "collapsed": false
   },
   "outputs": [],
   "source": [
    "# prioritize magnitudes and print pairs in order of size of overlap\n",
    "mag_priority = ['MW','MS','MD','MB','ML']\n",
    "tex_format = '%s, %s <- [%d] -> %s, %s'\n",
    "\n",
    "data = zip(agencies1, mags1, agencies2, mags2, nums_shared)\n",
    "data = list(set(data))\n",
    "data = sorted(data, key=lambda pair: pair[4], reverse=True)\n",
    "\n",
    "for i, m1 in enumerate(mag_priority):\n",
    "    for m2 in mag_priority[i:]:\n",
    "        for agency1, mag1, agency2, mag2, n_shared in data:\n",
    "            if (mag1 == m1 and mag2 == m2) or (mag1 == m2 and mag2 == m1):\n",
    "                n1 = agency_magnitude_stats[agency1]['Magnitudes'][mag1]\n",
    "                n2 = agency_magnitude_stats[agency2]['Magnitudes'][mag2]\n",
    "                \n",
    "                if mag_priority.index(m1) >= mag_priority.index(m2):\n",
    "                    print tex_format % (agency1, mag1,  n_shared,agency2, mag2)\n",
    "                else:\n",
    "                    print tex_format % ( gency2, mag2, n_shared,\n",
    "                                        agency1, mag1)"
   ]
  },
  {
   "cell_type": "code",
   "execution_count": null,
   "metadata": {
    "collapsed": true
   },
   "outputs": [],
   "source": []
  }
 ],
 "metadata": {
  "kernelspec": {
   "display_name": "Python 2",
   "language": "python",
   "name": "python2"
  },
  "language_info": {
   "codemirror_mode": {
    "name": "ipython",
    "version": 2
   },
   "file_extension": ".py",
   "mimetype": "text/x-python",
   "name": "python",
   "nbconvert_exporter": "python",
   "pygments_lexer": "ipython2",
   "version": "2.7.10"
  }
 },
 "nbformat": 4,
 "nbformat_minor": 0
}
