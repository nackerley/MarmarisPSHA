{
 "cells": [
  {
   "cell_type": "code",
   "execution_count": 8,
   "metadata": {
    "collapsed": true
   },
   "outputs": [],
   "source": [
    "import numpy as np"
   ]
  },
  {
   "cell_type": "code",
   "execution_count": null,
   "metadata": {
    "collapsed": true
   },
   "outputs": [],
   "source": []
  },
  {
   "cell_type": "code",
   "execution_count": 9,
   "metadata": {
    "collapsed": false
   },
   "outputs": [],
   "source": [
    "# place ipynb in same folder as \n",
    "file_name = \"AgencyPairs.txt\"\n",
    "pairs = np.genfromtxt(file_name, dtype=\"S64,S64,S64,S64,S64,S64,S64,i,S64\")"
   ]
  },
  {
   "cell_type": "code",
   "execution_count": 10,
   "metadata": {
    "collapsed": false
   },
   "outputs": [
    {
     "data": {
      "text/plain": [
       "array([ ('Agency-Pairs:', '(ISK,', 'MD)', '&', '(ISK,', 'mL)', 'returned', 598, 'events'),\n",
       "       ('Agency-Pairs:', '(ISK,', 'MD)', '&', '(ISK,', 'md)', 'returned', 17210, 'events'),\n",
       "       ('Agency-Pairs:', '(ISK,', 'MD)', '&', '(ISK,', 'ML)', 'returned', 598, 'events'),\n",
       "       ('Agency-Pairs:', '(ISK,', 'MD)', '&', '(ISC,', 'MS)', 'returned', 221, 'events'),\n",
       "       ('Agency-Pairs:', '(ISK,', 'MD)', '&', '(ISC,', 'mb)', 'returned', 987, 'events')], \n",
       "      dtype=[('f0', 'S64'), ('f1', 'S64'), ('f2', 'S64'), ('f3', 'S64'), ('f4', 'S64'), ('f5', 'S64'), ('f6', 'S64'), ('f7', '<i4'), ('f8', 'S64')])"
      ]
     },
     "execution_count": 10,
     "metadata": {},
     "output_type": "execute_result"
    }
   ],
   "source": [
    "# have a peek at the data\n",
    "pairs[:5]"
   ]
  },
  {
   "cell_type": "code",
   "execution_count": 11,
   "metadata": {
    "collapsed": false
   },
   "outputs": [
    {
     "name": "stdout",
     "output_type": "stream",
     "text": [
      "set(['MD', 'MS1MX', 'UK', 'MB', 'ML', 'MBTMP', 'MS1', 'MW', 'MS', 'MB1MX', 'MB1'])\n",
      "set(['MBTMP', 'MS1MX', 'UK', 'MB', 'ML', 'MD', 'MS1', 'MW', 'MS', 'MB1MX', 'MB1'])\n",
      "[]\n",
      "[]\n",
      "set(['EIDC', 'CSEM', 'NIC', 'NEIC', 'ATH', 'IDC', 'ISK', 'HLW', 'BJI', 'ISCJB', 'ISC', 'DDA', 'MOS', 'THE'])\n",
      "set(['USCGS', 'NEIS', 'EIDC', 'CSEM', 'NIC', 'NEIC', 'NAO', 'ATH', 'IDC', 'ISK', 'HLW', 'MEDRCMT', 'BJI', 'ISCJB', 'ISC', 'DDA', 'MOS', 'THE', 'GII'])\n",
      "[]\n",
      "['USCGS', 'MEDRCMT', 'NEIS', 'NAO', 'GII']\n"
     ]
    }
   ],
   "source": [
    "# parse the data and look at sets\n",
    "agencies1 = [pair[1][1:-1].replace('_','') for pair in pairs]\n",
    "mags1 = [pair[2][:-1].upper() for pair in pairs]\n",
    "agencies2 = [pair[4][1:-1].replace('_','') for pair in pairs]\n",
    "mags2 = [pair[5][:-1].upper() for pair in pairs]\n",
    "nums_shared = [pair[7] for pair in pairs]\n",
    "\n",
    "print set(mags1)\n",
    "print set(mags2)\n",
    "print list(set(mags1) - set(mags2))\n",
    "print list(set(mags2) - set(mags1))\n",
    "\n",
    "print set(agencies1)\n",
    "print set(agencies2)\n",
    "print list(set(agencies1) - set(agencies2))\n",
    "print list(set(agencies2) - set(agencies1))"
   ]
  },
  {
   "cell_type": "code",
   "execution_count": 20,
   "metadata": {
    "collapsed": false,
    "scrolled": false
   },
   "outputs": [
    {
     "name": "stdout",
     "output_type": "stream",
     "text": [
      "{ [same layer] USCGSMW, USCGSMS, USCGSMD };\n",
      "{ [same layer] NEISMW, NEISMS, NEISMD };\n",
      "{ [same layer] EIDCMW, EIDCMS, EIDCMD };\n",
      "{ [same layer] CSEMMW, CSEMMS, CSEMMD };\n",
      "{ [same layer] NICMW, NICMS, NICMD };\n",
      "{ [same layer] NEICMW, NEICMS, NEICMD };\n",
      "{ [same layer] NAOMW, NAOMS, NAOMD };\n",
      "{ [same layer] ATHMW, ATHMS, ATHMD };\n",
      "{ [same layer] IDCMW, IDCMS, IDCMD };\n",
      "{ [same layer] ISKMW, ISKMS, ISKMD };\n",
      "{ [same layer] HLWMW, HLWMS, HLWMD };\n",
      "{ [same layer] MEDRCMTMW, MEDRCMTMS, MEDRCMTMD };\n",
      "{ [same layer] BJIMW, BJIMS, BJIMD };\n",
      "{ [same layer] ISCJBMW, ISCJBMS, ISCJBMD };\n",
      "{ [same layer] ISCMW, ISCMS, ISCMD };\n",
      "{ [same layer] DDAMW, DDAMS, DDAMD };\n",
      "{ [same layer] MOSMW, MOSMS, MOSMD };\n",
      "{ [same layer] THEMW, THEMS, THEMD };\n",
      "{ [same layer] GIIMW, GIIMS, GIIMD };\n",
      "\n",
      "CSEMMW[input] -> [edge label={238}] NICMW[input];\n",
      "NICMW[input] -> [edge label={205}] IDCMS[input];\n",
      "NICMW[input] -> [edge label={317}] ISKMD[input];\n",
      "NICMW[input] -> [edge label={269}] ATHMD[input];\n",
      "ISCMS[input] -> [edge label={446}] IDCMS[input];\n",
      "ISCJBMS[input] -> [edge label={397}] IDCMS[input];\n",
      "ISCMS[input] -> [edge label={242}] ISCJBMS[input];\n",
      "IDCMS[input] -> [edge label={443}] ATHMD[input];\n",
      "ATHMD[input] -> [edge label={376}] ISCMS[input];\n",
      "IDCMS[input] -> [edge label={283}] ISKMD[input];\n",
      "IDCMS[input] -> [edge label={256}] DDAMD[input];\n",
      "ISCMS[input] -> [edge label={221}] ISKMD[input];\n",
      "HLWMD[input] -> [edge label={208}] IDCMS[input];\n",
      "ISKMD[input] -> [edge label={17210}] ISKMD[input];\n",
      "ATHMD[input] -> [edge label={14988}] ATHMD[input];\n",
      "ISKMD[input] -> [edge label={7633}] CSEMMD[input];\n",
      "ISKMD[input] -> [edge label={7069}] ATHMD[input];\n",
      "DDAMD[input] -> [edge label={6172}] DDAMD[input];\n",
      "ATHMD[input] -> [edge label={5723}] CSEMMD[input];\n",
      "CSEMMD[input] -> [edge label={5165}] DDAMD[input];\n",
      "ISKMD[input] -> [edge label={4526}] DDAMD[input];\n",
      "ATHMD[input] -> [edge label={1967}] DDAMD[input];\n",
      "DDAMD[input] -> [edge label={202}] HLWMD[input];\n"
     ]
    }
   ],
   "source": [
    "# prioritize magnitudes and print pairs in order of size of overlap\n",
    "mag_priority = ['MW','MS','MD']\n",
    "#conn_format = '%s%s/\"%s, %s\"[input] -> [edge label={%d}] %s%s/\"%s, %s\"[input];'\n",
    "conn_format = '%s%s[input] -> [edge label={%d}] %s%s[input];'\n",
    "\n",
    "data = zip(agencies1, mags1, agencies2, mags2, nums_shared)\n",
    "data = list(set(data))\n",
    "data = sorted(data, key=lambda pair: pair[4], reverse=True)\n",
    "\n",
    "for agency in set(agencies1 + agencies2):\n",
    "    string = \"{ [same layer] \"\n",
    "    for mag in mag_priority:\n",
    "        string = string + (\"%s%s, \" % (agency, mag) )\n",
    "    string = string[:-2] + \" };\"\n",
    "    print string\n",
    "\n",
    "print\n",
    "\n",
    "for i, m1 in enumerate(mag_priority):\n",
    "    for m2 in mag_priority[i:]:\n",
    "        for agency1, mag1, agency2, mag2, n_shared in data:\n",
    "            if (mag1 == m1 and mag2 == m2) or (mag1 == m2 and mag2 == m1):\n",
    "                if mag_priority.index(m1) >= mag_priority.index(m2):\n",
    "                    print conn_format % (agency1, mag1, n_shared, agency2, mag2)\n",
    "                else:\n",
    "                    print conn_format % (agency2, mag2, n_shared, agency1, mag1)"
   ]
  },
  {
   "cell_type": "code",
   "execution_count": 1,
   "metadata": {
    "collapsed": false
   },
   "outputs": [
    {
     "name": "stdout",
     "output_type": "stream",
     "text": [
      "done!\n"
     ]
    }
   ],
   "source": [
    "G = {'s':{'u':10, 'x':5},\n",
    "     'u':{'v':1, 'x':2},\n",
    "     'v':{'y':4},\n",
    "     'x':{'u':3, 'v':9, 'y':2},\n",
    "     'y':{'s':7, 'v':6}}\n",
    "\n",
    "f = open('dotgraph.txt','w')\n",
    "f.writelines('digraph G {\\nnode [width=.3,height=.3,shape=octagon,style=filled,color=skyblue];\\noverlap=\"false\";\\nrankdir=\"LR\";\\n')\n",
    "f.writelines\n",
    "for i in G:\n",
    "\n",
    "    for j in G[i]:\n",
    "        s= '      '+ i\n",
    "        s +=  ' -> ' +  j + ' [label=\"' + str(G[i][j]) + '\"]'\n",
    "        s+=';\\n'\n",
    "        f.writelines(s)\n",
    "\n",
    "f.writelines('}')\n",
    "f.close()\n",
    "print \"done!\"\n"
   ]
  },
  {
   "cell_type": "code",
   "execution_count": null,
   "metadata": {
    "collapsed": true
   },
   "outputs": [],
   "source": []
  }
 ],
 "metadata": {
  "kernelspec": {
   "display_name": "Python 2",
   "language": "python",
   "name": "python2"
  },
  "language_info": {
   "codemirror_mode": {
    "name": "ipython",
    "version": 2
   },
   "file_extension": ".py",
   "mimetype": "text/x-python",
   "name": "python",
   "nbconvert_exporter": "python",
   "pygments_lexer": "ipython2",
   "version": "2.7.10"
  }
 },
 "nbformat": 4,
 "nbformat_minor": 0
}
